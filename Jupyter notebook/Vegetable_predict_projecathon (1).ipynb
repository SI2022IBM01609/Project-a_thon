{
  "cells": [
    {
      "cell_type": "code",
      "source": [
        ""
      ],
      "metadata": {
        "id": "Z2jMQVDIIoUt"
      },
      "execution_count": null,
      "outputs": []
    },
    {
      "cell_type": "code",
      "source": [
        ""
      ],
      "metadata": {
        "id": "-w4gkw9tIH_M"
      },
      "execution_count": null,
      "outputs": []
    },
    {
      "cell_type": "markdown",
      "source": [
        "#Mount the drive click on third symbol"
      ],
      "metadata": {
        "id": "a6dG-NAiIhhB"
      }
    },
    {
      "cell_type": "code",
      "execution_count": null,
      "metadata": {
        "id": "C5PHrR94Vi1d"
      },
      "outputs": [],
      "source": [
        "cd /content/drive/MyDrive/IBMDay4cnn/"
      ]
    },
    {
      "cell_type": "code",
      "execution_count": null,
      "metadata": {
        "id": "qm0eEGjVYymK"
      },
      "outputs": [],
      "source": [
        "!unzip Fertilizers_RS_For_Disease_Prediction.zip"
      ]
    },
    {
      "cell_type": "code",
      "execution_count": null,
      "metadata": {
        "id": "nK5wQT8wZ6e2"
      },
      "outputs": [],
      "source": [
        "pwd"
      ]
    },
    {
      "cell_type": "code",
      "execution_count": null,
      "metadata": {
        "id": "Y-ZhfPKoakXz"
      },
      "outputs": [],
      "source": [
        "from tensorflow.keras.preprocessing.image import ImageDataGenerator"
      ]
    },
    {
      "cell_type": "code",
      "execution_count": null,
      "metadata": {
        "id": "r-QVtb7RbpqQ"
      },
      "outputs": [],
      "source": [
        "train_datagen=ImageDataGenerator(rescale=1./255, zoom_range=0.2, horizontal_flip=True, vertical_flip=False) #\n",
        "test_datagen=ImageDataGenerator(rescale=1./255) #"
      ]
    },
    {
      "cell_type": "code",
      "execution_count": null,
      "metadata": {
        "id": "V-ywwFirdVh5"
      },
      "outputs": [],
      "source": [
        "x_train=train_datagen.flow_from_directory('/content/drive/MyDrive/IBMDay4cnn/Dataset Plant Disease/Veg-dataset/Veg-dataset/train_set', target_size=(128,128), class_mode='categorical', \n",
        "                                          batch_size=24)"
      ]
    },
    {
      "cell_type": "code",
      "execution_count": null,
      "metadata": {
        "id": "B9v8gRgde0iD"
      },
      "outputs": [],
      "source": [
        "x_test=test_datagen.flow_from_directory('/content/drive/MyDrive/IBMDay4cnn/Dataset Plant Disease/Veg-dataset/Veg-dataset/test_set', target_size=(128,128), class_mode='categorical', \n",
        "                                          batch_size=24)"
      ]
    },
    {
      "cell_type": "code",
      "execution_count": null,
      "metadata": {
        "id": "ciVk18sNgLDv"
      },
      "outputs": [],
      "source": [
        "x_train.class_indices"
      ]
    },
    {
      "cell_type": "code",
      "source": [
        "x_train"
      ],
      "metadata": {
        "id": "TUYM2YHQKPlg"
      },
      "execution_count": null,
      "outputs": []
    },
    {
      "cell_type": "code",
      "execution_count": null,
      "metadata": {
        "id": "nmrlCmLTgI69"
      },
      "outputs": [],
      "source": [
        "from tensorflow.keras.models import Sequential\n",
        "from tensorflow.keras.layers import Dense, Convolution2D, MaxPool2D, Flatten"
      ]
    },
    {
      "cell_type": "code",
      "execution_count": null,
      "metadata": {
        "id": "7VJIymGsgNQe"
      },
      "outputs": [],
      "source": [
        "model=Sequential()\n",
        "model.add(Convolution2D(64,(3,3), input_shape=(128,128,3),activation='relu'))\n"
      ]
    },
    {
      "cell_type": "code",
      "execution_count": null,
      "metadata": {
        "id": "ROP-9Xgsg3Ld"
      },
      "outputs": [],
      "source": [
        "model.add(MaxPool2D(pool_size=(2,2)))"
      ]
    },
    {
      "cell_type": "code",
      "source": [
        "model.add(Flatten())"
      ],
      "metadata": {
        "id": "Mt8bBZWqlOkY"
      },
      "execution_count": null,
      "outputs": []
    },
    {
      "cell_type": "markdown",
      "source": [
        ""
      ],
      "metadata": {
        "id": "kzq5hBJ_W8mq"
      }
    },
    {
      "cell_type": "markdown",
      "source": [
        "Hidden Layers"
      ],
      "metadata": {
        "id": "quZQPXjHlTv7"
      }
    },
    {
      "cell_type": "code",
      "source": [
        "model.add(Dense(300,activation='relu'))\n",
        "model.add(Dense(150,activation='relu'))"
      ],
      "metadata": {
        "id": "KuqKinuilQM8"
      },
      "execution_count": null,
      "outputs": []
    },
    {
      "cell_type": "markdown",
      "source": [
        "Output Layer"
      ],
      "metadata": {
        "id": "VADCSlvgldgo"
      }
    },
    {
      "cell_type": "code",
      "source": [
        "model.add(Dense(9,activation='softmax'))"
      ],
      "metadata": {
        "id": "8hpH5o5EljSV"
      },
      "execution_count": null,
      "outputs": []
    },
    {
      "cell_type": "code",
      "source": [
        "model.summary()"
      ],
      "metadata": {
        "id": "cK3fjWycMlBF"
      },
      "execution_count": null,
      "outputs": []
    },
    {
      "cell_type": "code",
      "source": [
        "model.compile(loss='categorical_crossentropy',optimizer='adam',metrics=['accuracy'])"
      ],
      "metadata": {
        "id": "HWxr-f8llj7N"
      },
      "execution_count": null,
      "outputs": []
    },
    {
      "cell_type": "code",
      "source": [
        "len(x_train)/24"
      ],
      "metadata": {
        "id": "XJyaAqBJlpAb"
      },
      "execution_count": null,
      "outputs": []
    },
    {
      "cell_type": "code",
      "source": [
        "len(x_test)/24"
      ],
      "metadata": {
        "id": "pVsBf6_7lsog"
      },
      "execution_count": null,
      "outputs": []
    },
    {
      "cell_type": "code",
      "source": [
        "model.fit(x_train,steps_per_epoch=20,validation_data=x_test,validation_steps=6,epochs=10)"
      ],
      "metadata": {
        "id": "UWD5uaZ5lw7o"
      },
      "execution_count": null,
      "outputs": []
    },
    {
      "cell_type": "code",
      "source": [
        "model.save('Veg_pathon.h5')"
      ],
      "metadata": {
        "id": "yl5kiZFol1Q2"
      },
      "execution_count": null,
      "outputs": []
    },
    {
      "cell_type": "code",
      "source": [
        "ls"
      ],
      "metadata": {
        "id": "qWRJF6tRppuw"
      },
      "execution_count": null,
      "outputs": []
    },
    {
      "cell_type": "markdown",
      "source": [
        "Test the model"
      ],
      "metadata": {
        "id": "FA5h7Lstl5tY"
      }
    },
    {
      "cell_type": "code",
      "execution_count": null,
      "metadata": {
        "id": "ufDT0t5EgQgy"
      },
      "outputs": [],
      "source": [
        "import numpy as np\n",
        "from tensorflow.keras.models import load_model\n",
        "from tensorflow.keras.preprocessing import image"
      ]
    },
    {
      "cell_type": "code",
      "source": [
        "model=load_model('Veg_pathon.h5')"
      ],
      "metadata": {
        "id": "50RKPfGgl-Ew"
      },
      "execution_count": null,
      "outputs": []
    },
    {
      "cell_type": "code",
      "source": [
        "img=image.load_img('/content/drive/MyDrive/IBMDay4cnn/Dataset Plant Disease/Veg-dataset/Veg-dataset/test_set/Pepper,_bell___Bacterial_spot/ae645b07-4c93-45d7-9ee6-83cbf1201e8b___NREC_B.Spot 9119.JPG')"
      ],
      "metadata": {
        "id": "YpQNlO60mEE-"
      },
      "execution_count": null,
      "outputs": []
    },
    {
      "cell_type": "code",
      "source": [
        "img"
      ],
      "metadata": {
        "id": "Et30WC_mpyNC"
      },
      "execution_count": null,
      "outputs": []
    },
    {
      "cell_type": "code",
      "execution_count": null,
      "metadata": {
        "id": "IjFajMVdlkaT"
      },
      "outputs": [],
      "source": [
        "img=image.load_img('/content/drive/MyDrive/IBMDay4cnn/Dataset Plant Disease/Veg-dataset/Veg-dataset/test_set/Pepper,_bell___Bacterial_spot/ae645b07-4c93-45d7-9ee6-83cbf1201e8b___NREC_B.Spot 9119.JPG',target_size=(128,128))"
      ]
    },
    {
      "cell_type": "code",
      "execution_count": null,
      "metadata": {
        "id": "T_Qtl2UVl7Vb"
      },
      "outputs": [],
      "source": [
        "img\n"
      ]
    },
    {
      "cell_type": "code",
      "execution_count": null,
      "metadata": {
        "id": "WYJPbUgKl89e"
      },
      "outputs": [],
      "source": [
        "x=image.img_to_array(img)\n",
        "x"
      ]
    },
    {
      "cell_type": "code",
      "source": [
        "x.ndim"
      ],
      "metadata": {
        "id": "WmZ8MOL-mO_i"
      },
      "execution_count": null,
      "outputs": []
    },
    {
      "cell_type": "code",
      "source": [
        "x.shape"
      ],
      "metadata": {
        "id": "ROZkH9ifmSX9"
      },
      "execution_count": null,
      "outputs": []
    },
    {
      "cell_type": "code",
      "source": [
        "x=np.expand_dims(x,axis=0)\n",
        "x"
      ],
      "metadata": {
        "id": "xMMge2DqmU3u"
      },
      "execution_count": null,
      "outputs": []
    },
    {
      "cell_type": "code",
      "source": [
        "y=np.argmax(model.predict(x),axis=1)\n",
        "y"
      ],
      "metadata": {
        "id": "dkhtRL-UmaeB"
      },
      "execution_count": null,
      "outputs": []
    },
    {
      "cell_type": "code",
      "source": [
        "x_train.class_indices"
      ],
      "metadata": {
        "id": "CE_Fg4ovmjk5"
      },
      "execution_count": null,
      "outputs": []
    },
    {
      "cell_type": "code",
      "source": [
        "index=['Pepper_BS','Pepper_H','Potato_EB','Potato_LB','Potato_H','Tomato_BS','Tomato_blight','Tomato_mold','Tomato_H']\n",
        "index[y[0]]"
      ],
      "metadata": {
        "id": "5WzsTZm-mh3_"
      },
      "execution_count": null,
      "outputs": []
    },
    {
      "cell_type": "code",
      "source": [
        "img=image.load_img(\"/content/drive/MyDrive/IBMDay4cnn/Dataset Plant Disease/Veg-dataset/Veg-dataset/test_set/Potato___Early_blight/bb3d6df0-683e-4f04-afaf-277a36edad6c___RS_Early.B 9070.JPG\",target_size=(128,128))\n",
        "x=image.img_to_array(img)\n",
        "x=np.expand_dims(x,axis=0)\n",
        "y=np.argmax(model.predict(x),axis=1)\n",
        "print(y)\n",
        "index=['Pepper_BS','Pepper_H','Potato_EB','Potato_LB','Potato_H','Tomato_BS','Tomato_blight','Tomato_mold','Tomato_H']\n",
        "index[y[0]]"
      ],
      "metadata": {
        "id": "dsvHVR_9muv0"
      },
      "execution_count": null,
      "outputs": []
    },
    {
      "cell_type": "code",
      "source": [
        "img=image.load_img(\"/content/drive/MyDrive/IBMDay4cnn/Dataset Plant Disease/Veg-dataset/Veg-dataset/test_set/Tomato___Bacterial_spot/b179b3d0-80cf-4dbf-9e88-b3e9b4a93b3b___GCREC_Bact.Sp 3659.JPG\",target_size=(128,128))\n",
        "x=image.img_to_array(img)\n",
        "x=np.expand_dims(x,axis=0)\n",
        "y=np.argmax(model.predict(x),axis=1)\n",
        "print(y)\n",
        "index=['Pepper_BS','Pepper_H','Potato_EB','Potato_LB','Potato_H','Tomato_BS','Tomato_blight','Tomato_mold','Tomato_H']\n",
        "index[y[0]]"
      ],
      "metadata": {
        "id": "OC92lGUYm4HC"
      },
      "execution_count": null,
      "outputs": []
    },
    {
      "cell_type": "code",
      "source": [
        "img=image.load_img(\"/content/drive/MyDrive/IBMDay4cnn/Dataset Plant Disease/Veg-dataset/Veg-dataset/test_set/Tomato___Late_blight/b19055d9-6a5d-4b73-90a5-3b3685ac344a___GHLB2 Leaf 8729.JPG\",target_size=(128,128))\n",
        "x=image.img_to_array(img)\n",
        "x=np.expand_dims(x,axis=0)\n",
        "y=np.argmax(model.predict(x),axis=1)\n",
        "print(y)\n",
        "index=['Pepper_BS','Pepper_H','Potato_EB','Potato_LB','Potato_H','Tomato_BS','Tomato_blight','Tomato_mold','Tomato_H']\n",
        "index[y[0]]"
      ],
      "metadata": {
        "id": "sm2U4nlQnBhH"
      },
      "execution_count": null,
      "outputs": []
    },
    {
      "cell_type": "code",
      "source": [
        "img=image.load_img(\"/content/drive/MyDrive/IBMDay4cnn/Dataset Plant Disease/Veg-dataset/Veg-dataset/test_set/Tomato___Leaf_Mold/ae1a8d9f-85a8-4d62-9700-b31bf1dd7a78___Crnl_L.Mold 8659.JPG\",target_size=(128,128))\n",
        "x=image.img_to_array(img)\n",
        "x=np.expand_dims(x,axis=0)\n",
        "y=np.argmax(model.predict(x),axis=1)\n",
        "print(y)\n",
        "index=['Pepper_BS','Pepper_H','Potato_EB','Potato_LB','Potato_H','Tomato_BS','Tomato_blight','Tomato_mold','Tomato_H']\n",
        "index[y[0]]"
      ],
      "metadata": {
        "id": "ADz29KkMnM_l"
      },
      "execution_count": null,
      "outputs": []
    },
    {
      "cell_type": "code",
      "source": [
        "img=image.load_img(\"/content/drive/MyDrive/IBMDay4cnn/Dataset Plant Disease/Veg-dataset/Veg-dataset/test_set/Tomato___Septoria_leaf_spot/c363173e-e72f-4aeb-937b-29f60598736d___JR_Sept.L.S 8563.JPG\",target_size=(128,128))\n",
        "img.show()\n",
        "x=image.img_to_array(img)\n",
        "x=np.expand_dims(x,axis=0)\n",
        "y=np.argmax(model.predict(x),axis=1)\n",
        "print(y)\n",
        "index=['Pepper_BS','Pepper_H','Potato_EB','Potato_LB','Potato_H','Tomato_BS','Tomato_blight','Tomato_mold','Tomato_H']\n",
        "index[y[0]]"
      ],
      "metadata": {
        "id": "uVoRWvBqSbte"
      },
      "execution_count": null,
      "outputs": []
    },
    {
      "cell_type": "code",
      "source": [
        ""
      ],
      "metadata": {
        "id": "FSlDUJpiVHPL"
      },
      "execution_count": null,
      "outputs": []
    }
  ],
  "metadata": {
    "colab": {
      "name": "Vegetable_predict_projecathon.ipynb",
      "provenance": [],
      "collapsed_sections": []
    },
    "kernelspec": {
      "display_name": "Python 3",
      "name": "python3"
    },
    "language_info": {
      "name": "python"
    },
    "accelerator": "GPU",
    "gpuClass": "standard"
  },
  "nbformat": 4,
  "nbformat_minor": 0
}