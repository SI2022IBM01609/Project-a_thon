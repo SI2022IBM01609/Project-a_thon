{
  "cells": [
    {
      "cell_type": "code",
      "source": [
        ""
      ],
      "metadata": {
        "id": "Z2jMQVDIIoUt"
      },
      "execution_count": null,
      "outputs": []
    },
    {
      "cell_type": "code",
      "source": [
        ""
      ],
      "metadata": {
        "id": "-w4gkw9tIH_M"
      },
      "execution_count": null,
      "outputs": []
    },
    {
      "cell_type": "markdown",
      "source": [
        "#Mount the drive click on third symbol"
      ],
      "metadata": {
        "id": "a6dG-NAiIhhB"
      }
    },
    {
      "cell_type": "code",
      "execution_count": null,
      "metadata": {
        "id": "C5PHrR94Vi1d"
      },
      "outputs": [],
      "source": [
        "cd /content/drive/MyDrive/IBMDay4cnn/"
      ]
    },
    {
      "cell_type": "code",
      "execution_count": null,
      "metadata": {
        "id": "qm0eEGjVYymK"
      },
      "outputs": [],
      "source": [
        "!unzip Fertilizers_RS_For_Disease_Prediction.zip"
      ]
    },
    {
      "cell_type": "code",
      "execution_count": null,
      "metadata": {
        "id": "nK5wQT8wZ6e2"
      },
      "outputs": [],
      "source": [
        "pwd"
      ]
    },
    {
      "cell_type": "code",
      "execution_count": null,
      "metadata": {
        "id": "Y-ZhfPKoakXz"
      },
      "outputs": [],
      "source": [
        "from tensorflow.keras.preprocessing.image import ImageDataGenerator"
      ]
    },
    {
      "cell_type": "code",
      "execution_count": null,
      "metadata": {
        "id": "r-QVtb7RbpqQ"
      },
      "outputs": [],
      "source": [
        "train_datagen=ImageDataGenerator(rescale=1./255, zoom_range=0.2, horizontal_flip=True, vertical_flip=False) #\n",
        "test_datagen=ImageDataGenerator(rescale=1./255) #"
      ]
    },
    {
      "cell_type": "code",
      "execution_count": null,
      "metadata": {
        "id": "V-ywwFirdVh5"
      },
      "outputs": [],
      "source": [
        "x_train=train_datagen.flow_from_directory('/content/drive/MyDrive/IBMDay4cnn/Dataset Plant Disease/fruit-dataset/fruit-dataset/train', target_size=(128,128), class_mode='categorical', \n",
        "                                          batch_size=8)"
      ]
    },
    {
      "cell_type": "code",
      "execution_count": null,
      "metadata": {
        "id": "B9v8gRgde0iD"
      },
      "outputs": [],
      "source": [
        "x_test=test_datagen.flow_from_directory('/content/drive/MyDrive/IBMDay4cnn/Dataset Plant Disease/fruit-dataset/fruit-dataset/test', target_size=(128,128), class_mode='categorical', \n",
        "                                          batch_size=8)"
      ]
    },
    {
      "cell_type": "code",
      "execution_count": null,
      "metadata": {
        "id": "ciVk18sNgLDv"
      },
      "outputs": [],
      "source": [
        "x_train.class_indices"
      ]
    },
    {
      "cell_type": "code",
      "source": [
        "x_train"
      ],
      "metadata": {
        "id": "TUYM2YHQKPlg"
      },
      "execution_count": null,
      "outputs": []
    },
    {
      "cell_type": "code",
      "execution_count": null,
      "metadata": {
        "id": "nmrlCmLTgI69"
      },
      "outputs": [],
      "source": [
        "from tensorflow.keras.models import Sequential\n",
        "from tensorflow.keras.layers import Dense, Convolution2D, MaxPool2D, Flatten"
      ]
    },
    {
      "cell_type": "code",
      "execution_count": null,
      "metadata": {
        "id": "7VJIymGsgNQe"
      },
      "outputs": [],
      "source": [
        "model=Sequential()\n",
        "model.add(Convolution2D(64,(3,3), input_shape=(128,128,3),activation='relu'))\n"
      ]
    },
    {
      "cell_type": "code",
      "execution_count": null,
      "metadata": {
        "id": "ROP-9Xgsg3Ld"
      },
      "outputs": [],
      "source": [
        "model.add(MaxPool2D(pool_size=(2,2)))"
      ]
    },
    {
      "cell_type": "code",
      "source": [
        "model.add(Flatten())"
      ],
      "metadata": {
        "id": "Mt8bBZWqlOkY"
      },
      "execution_count": null,
      "outputs": []
    },
    {
      "cell_type": "markdown",
      "source": [
        ""
      ],
      "metadata": {
        "id": "kzq5hBJ_W8mq"
      }
    },
    {
      "cell_type": "markdown",
      "source": [
        "Hidden Layers"
      ],
      "metadata": {
        "id": "quZQPXjHlTv7"
      }
    },
    {
      "cell_type": "code",
      "source": [
        "model.add(Dense(128,activation='relu'))\n",
        "model.add(Dense(64,activation='relu'))"
      ],
      "metadata": {
        "id": "KuqKinuilQM8"
      },
      "execution_count": null,
      "outputs": []
    },
    {
      "cell_type": "markdown",
      "source": [
        "Output Layer"
      ],
      "metadata": {
        "id": "VADCSlvgldgo"
      }
    },
    {
      "cell_type": "code",
      "source": [
        "model.add(Dense(6,activation='softmax'))"
      ],
      "metadata": {
        "id": "8hpH5o5EljSV"
      },
      "execution_count": null,
      "outputs": []
    },
    {
      "cell_type": "code",
      "source": [
        "model.summary()"
      ],
      "metadata": {
        "id": "cK3fjWycMlBF"
      },
      "execution_count": null,
      "outputs": []
    },
    {
      "cell_type": "code",
      "source": [
        "model.compile(loss='categorical_crossentropy',optimizer='adam',metrics=['accuracy'])"
      ],
      "metadata": {
        "id": "HWxr-f8llj7N"
      },
      "execution_count": null,
      "outputs": []
    },
    {
      "cell_type": "code",
      "source": [
        "len(x_train)"
      ],
      "metadata": {
        "id": "XJyaAqBJlpAb"
      },
      "execution_count": null,
      "outputs": []
    },
    {
      "cell_type": "code",
      "source": [
        "673/8"
      ],
      "metadata": {
        "id": "pVsBf6_7lsog"
      },
      "execution_count": null,
      "outputs": []
    },
    {
      "cell_type": "code",
      "source": [
        "model.fit(x_train,steps_per_epoch=len(x_train),validation_data=x_test,validation_steps=len(x_test),epochs=10)"
      ],
      "metadata": {
        "id": "UWD5uaZ5lw7o"
      },
      "execution_count": null,
      "outputs": []
    },
    {
      "cell_type": "code",
      "source": [
        "model.save('fruit_pathon.h5')"
      ],
      "metadata": {
        "id": "yl5kiZFol1Q2"
      },
      "execution_count": null,
      "outputs": []
    },
    {
      "cell_type": "code",
      "source": [
        "ls"
      ],
      "metadata": {
        "id": "qWRJF6tRppuw"
      },
      "execution_count": null,
      "outputs": []
    },
    {
      "cell_type": "markdown",
      "source": [
        "Test the model"
      ],
      "metadata": {
        "id": "FA5h7Lstl5tY"
      }
    },
    {
      "cell_type": "code",
      "execution_count": null,
      "metadata": {
        "id": "ufDT0t5EgQgy"
      },
      "outputs": [],
      "source": [
        "import numpy as np\n",
        "from tensorflow.keras.models import load_model\n",
        "from tensorflow.keras.preprocessing import image"
      ]
    },
    {
      "cell_type": "code",
      "source": [
        "model=load_model('fruit_pathon.h5')"
      ],
      "metadata": {
        "id": "50RKPfGgl-Ew"
      },
      "execution_count": null,
      "outputs": []
    },
    {
      "cell_type": "code",
      "source": [
        "img=image.load_img('/content/drive/MyDrive/IBMDay4cnn/Dataset Plant Disease/fruit-dataset/fruit-dataset/test/Apple___Black_rot/0b37761a-de32-47ee-a3a4-e138b97ef542___JR_FrgE.S 2908.JPG')"
      ],
      "metadata": {
        "id": "YpQNlO60mEE-"
      },
      "execution_count": null,
      "outputs": []
    },
    {
      "cell_type": "code",
      "source": [
        "img"
      ],
      "metadata": {
        "id": "Et30WC_mpyNC"
      },
      "execution_count": null,
      "outputs": []
    },
    {
      "cell_type": "code",
      "execution_count": null,
      "metadata": {
        "id": "IjFajMVdlkaT"
      },
      "outputs": [],
      "source": [
        "img=image.load_img('/content/drive/MyDrive/IBMDay4cnn/Dataset Plant Disease/fruit-dataset/fruit-dataset/test/Apple___Black_rot/0b37761a-de32-47ee-a3a4-e138b97ef542___JR_FrgE.S 2908.JPG',target_size=(128,128))"
      ]
    },
    {
      "cell_type": "code",
      "execution_count": null,
      "metadata": {
        "id": "T_Qtl2UVl7Vb"
      },
      "outputs": [],
      "source": [
        "img\n"
      ]
    },
    {
      "cell_type": "code",
      "execution_count": null,
      "metadata": {
        "id": "WYJPbUgKl89e"
      },
      "outputs": [],
      "source": [
        "x=image.img_to_array(img)\n",
        "x"
      ]
    },
    {
      "cell_type": "code",
      "source": [
        "x.ndim"
      ],
      "metadata": {
        "id": "WmZ8MOL-mO_i"
      },
      "execution_count": null,
      "outputs": []
    },
    {
      "cell_type": "code",
      "source": [
        "x.shape"
      ],
      "metadata": {
        "id": "ROZkH9ifmSX9"
      },
      "execution_count": null,
      "outputs": []
    },
    {
      "cell_type": "code",
      "source": [
        "x=np.expand_dims(x,axis=0)\n",
        "x"
      ],
      "metadata": {
        "id": "xMMge2DqmU3u"
      },
      "execution_count": null,
      "outputs": []
    },
    {
      "cell_type": "code",
      "source": [
        "y=np.argmax(model.predict(x),axis=1)\n",
        "y"
      ],
      "metadata": {
        "id": "dkhtRL-UmaeB"
      },
      "execution_count": null,
      "outputs": []
    },
    {
      "cell_type": "code",
      "source": [
        "x_train.class_indices"
      ],
      "metadata": {
        "id": "CE_Fg4ovmjk5"
      },
      "execution_count": null,
      "outputs": []
    },
    {
      "cell_type": "code",
      "source": [
        "index=['Apple_BR','Apple_H','Corn_NLB','Corn_H','Peach_BS','Peach_H']\n",
        "index[y[0]]"
      ],
      "metadata": {
        "id": "5WzsTZm-mh3_"
      },
      "execution_count": null,
      "outputs": []
    },
    {
      "cell_type": "code",
      "source": [
        "img=image.load_img(\"//content/drive/MyDrive/IBMDay4cnn/Dataset Plant Disease/fruit-dataset/fruit-dataset/test/Corn_(maize)___Northern_Leaf_Blight/04d8e1d6-766e-4fcc-9bac-42efb9e6ad33___RS_NLB 3620.JPG\",target_size=(128,128))\n",
        "x=image.img_to_array(img)\n",
        "x=np.expand_dims(x,axis=0)\n",
        "y=np.argmax(model.predict(x),axis=1)\n",
        "print(y)\n",
        "index=['Apple_BR','Apple_H','Corn_NLB','Corn_H','Peach_BS','Peach_H']\n",
        "index[y[0]]"
      ],
      "metadata": {
        "id": "dsvHVR_9muv0"
      },
      "execution_count": null,
      "outputs": []
    },
    {
      "cell_type": "code",
      "source": [
        "img=image.load_img(\"/content/drive/MyDrive/IBMDay4cnn/Dataset Plant Disease/fruit-dataset/fruit-dataset/test/Apple___healthy/013b7c70-5e3b-42b7-86af-167815a5b04f___RS_HL 7480.JPG\",target_size=(128,128))\n",
        "x=image.img_to_array(img)\n",
        "x=np.expand_dims(x,axis=0)\n",
        "y=np.argmax(model.predict(x),axis=1)\n",
        "print(y)\n",
        "index=['Apple_BR','Apple_H','Corn_NLB','Corn_H','Peach_BS','Peach_H']\n",
        "index[y[0]]"
      ],
      "metadata": {
        "id": "OC92lGUYm4HC"
      },
      "execution_count": null,
      "outputs": []
    },
    {
      "cell_type": "code",
      "source": [
        "img=image.load_img(\"/content/drive/MyDrive/IBMDay4cnn/Dataset Plant Disease/fruit-dataset/fruit-dataset/test/Peach___Bacterial_spot/01ba711d-8d26-4be8-994d-09f5b02fcbe9___Rut._Bact.S 3390.JPG\",target_size=(128,128))\n",
        "x=image.img_to_array(img)\n",
        "x=np.expand_dims(x,axis=0)\n",
        "y=np.argmax(model.predict(x),axis=1)\n",
        "print(y)\n",
        "index=['Apple_BR','Apple_H','Corn_NLB','Corn_H','Peach_BS','Peach_H']\n",
        "index[y[0]]"
      ],
      "metadata": {
        "id": "sm2U4nlQnBhH"
      },
      "execution_count": null,
      "outputs": []
    },
    {
      "cell_type": "code",
      "source": [
        "img=image.load_img(\"/content/drive/MyDrive/IBMDay4cnn/Dataset Plant Disease/fruit-dataset/fruit-dataset/test/Peach___healthy/0cc78dac-a333-4a05-b749-660dce8e16b9___Rutg._HL 2495.JPG\",target_size=(128,128))\n",
        "x=image.img_to_array(img)\n",
        "x=np.expand_dims(x,axis=0)\n",
        "y=np.argmax(model.predict(x),axis=1)\n",
        "print(y)\n",
        "index=['Apple_BR','Apple_H','Corn_NLB','Corn_H','Peach_BS','Peach_H']\n",
        "index[y[0]]"
      ],
      "metadata": {
        "id": "ADz29KkMnM_l"
      },
      "execution_count": null,
      "outputs": []
    },
    {
      "cell_type": "code",
      "source": [
        "img=image.load_img(\"/content/drive/MyDrive/IBMDay4cnn/Dataset Plant Disease/fruit-dataset/fruit-dataset/test/Peach___Bacterial_spot/01a48fc7-fafc-4866-a9bf-541f6cf6f6b1___Rut._Bact.S 3436.JPG\",target_size=(128,128))\n",
        "img.show()\n",
        "x=image.img_to_array(img)\n",
        "x=np.expand_dims(x,axis=0)\n",
        "y=np.argmax(model.predict(x),axis=1)\n",
        "print(y)\n",
        "index=['Apple_BR','Apple_H','Corn_NLB','Corn_H','Peach_BS','Peach_H']\n",
        "index[y[0]]"
      ],
      "metadata": {
        "id": "uVoRWvBqSbte"
      },
      "execution_count": null,
      "outputs": []
    },
    {
      "cell_type": "code",
      "source": [
        ""
      ],
      "metadata": {
        "id": "FSlDUJpiVHPL"
      },
      "execution_count": null,
      "outputs": []
    }
  ],
  "metadata": {
    "colab": {
      "name": "Fruit_predict_projecathon.ipynb",
      "provenance": [],
      "collapsed_sections": []
    },
    "kernelspec": {
      "display_name": "Python 3",
      "name": "python3"
    },
    "language_info": {
      "name": "python"
    },
    "accelerator": "GPU",
    "gpuClass": "standard"
  },
  "nbformat": 4,
  "nbformat_minor": 0
}